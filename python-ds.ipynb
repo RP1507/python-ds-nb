{
 "cells": [
  {
   "cell_type": "markdown",
   "metadata": {},
   "source": [
    "# Web Mining and Applied NLP (44-620)\n",
    "\n",
    "## Python Notebooks, Basics, and Data Structures\n",
    "\n",
    "### Student Name: Ryan Smith\n",
    "\n",
    "Perform the tasks described in the Markdown cells below.  When you have completed the assignment make sure your code cells have all been run (and have output beneath them) and ensure you have committed and pushed ALL of your changes to your assignment repository.\n",
    "\n",
    "Every question that requires you to write code will have a code cell underneath it; you may either write your entire solution in that cell or write it in a python file (`.py`), then import and run the appropriate code to answer the question.\n",
    "\n",
    "Do not use external modules (`math`, etc) for this assignment unless you are explicitly instructed to, though you may use built in python functions (`min`, `max`, etc) as you wish."
   ]
  },
  {
   "cell_type": "markdown",
   "metadata": {},
   "source": [
    "1. Modify the Markdown cell above to put your name after \"Student Name:\"; you will be expected to do this in all assignments presented in this format for this class."
   ]
  },
  {
   "cell_type": "markdown",
   "metadata": {},
   "source": [
    "2. Write code that divides any two numbers, stores the result in a variable, and prints the result with an appropriate label."
   ]
  },
  {
   "cell_type": "code",
   "execution_count": 1,
   "metadata": {},
   "outputs": [
    {
     "name": "stdout",
     "output_type": "stream",
     "text": [
      "The answer =  2.142857142857143\n"
     ]
    }
   ],
   "source": [
    "quotient = 15/7\n",
    "print ('The answer = ', quotient)"
   ]
  },
  {
   "cell_type": "markdown",
   "metadata": {},
   "source": [
    "3. Using loops (and potentially conditionals), write Python code that prints the factorial of each integer from 1 through 10 (which you can store in a variable if you want). The factorial of an integer is the product of all of the integers of 1 through the number. Print the result with an appropriate label."
   ]
  },
  {
   "cell_type": "code",
   "execution_count": 2,
   "metadata": {},
   "outputs": [
    {
     "name": "stdout",
     "output_type": "stream",
     "text": [
      "[1, 2, 6, 24, 120, 720, 5040, 40320, 362880, 3628800]\n"
     ]
    }
   ],
   "source": [
    "x = []\n",
    "for i in range (1,11):\n",
    "    if i == 1:\n",
    "        x.append(i)\n",
    "    else:\n",
    "        x.append(x[-1]*i)\n",
    "print(x)"
   ]
  },
  {
   "cell_type": "markdown",
   "metadata": {},
   "source": [
    "4. Write a python function that takes a single parameter and calculates and returns the average (mean) of the values in the parameter (which you may assume is iterable).  Show that your function works by printing the result of calling the function on the list in the cell below."
   ]
  },
  {
   "cell_type": "code",
   "execution_count": 14,
   "metadata": {},
   "outputs": [
    {
     "name": "stdout",
     "output_type": "stream",
     "text": [
      "0.0\n"
     ]
    }
   ],
   "source": [
    "testlist = [1,-1,2,-2,3,-3,4,-4]\n",
    "\n",
    "def avg(x):\n",
    "    average = sum(x)/len(x)\n",
    "    return average\n",
    "\n",
    "print (avg(testlist))"
   ]
  },
  {
   "cell_type": "markdown",
   "metadata": {},
   "source": [
    "5. Using your mean function above, write a function that calculates the variance of the list of numbers (see https://en.wikipedia.org/wiki/Variance for more information on the formula). In short:\n",
    "* subtract the mean of the elements in the list from every element in the list; store these values in a new list\n",
    "* square every element in the new list and sum the elements together\n",
    "* divide the resulting number by N (where N is the length of the original list)\n",
    "\n",
    "Show the result of calling your function in the lists in the code cell. You must use one or more list comprehensions or map/filter in your code.\n"
   ]
  },
  {
   "cell_type": "code",
   "execution_count": 55,
   "metadata": {},
   "outputs": [
    {
     "name": "stdout",
     "output_type": "stream",
     "text": [
      "The variance for this list is: 1.13973309\n",
      "The variance for this list is: 0.9257232841\n"
     ]
    }
   ],
   "source": [
    "list1 = [ 5.670e-1, -1.480e+0, -5.570e-1, -1.470e+0, 7.340e-1, 1.050e+0, 4.480e-1, 2.570e-1, -1.970e+0, -1.460e+0]\n",
    "list2 = [-1.780e+0, 2.640e-1, 1.160e+0, 9.080e-1, 1.780e+0, 1.080e+0, 1.050e+0, -4.630e-2, 1.520e+0, 5.350e-1]\n",
    "# the variances of both lists should be relatively close to 1 (off by less than .15)\n",
    "\n",
    "def variance(data):\n",
    "    n = len(data)\n",
    "    mean = sum(data) / n\n",
    "    deviation = [(item - mean) ** 2 for item in data] \n",
    "    variance = sum(deviation) / n\n",
    "    return variance\n",
    "\n",
    "print(\"The variance for this list is:\", variance(list1))\n",
    "print(\"The variance for this list is:\", variance(list2))\n",
    "\n"
   ]
  },
  {
   "cell_type": "markdown",
   "metadata": {},
   "source": [
    "6. Create a list with at least 15 elements in it. Use list slicing to print the following:\n",
    "* The first 5 elements of the list\n",
    "* The last 5 elements of the list\n",
    "* The list reversed (hint, show the entire list with a stride of -1)\n",
    "* Every second element in the list\n",
    "* Every third element in the list (stride of 3)"
   ]
  },
  {
   "cell_type": "code",
   "execution_count": 42,
   "metadata": {},
   "outputs": [
    {
     "name": "stdout",
     "output_type": "stream",
     "text": [
      "['Chiefs', 'Broncos', 'Chargers', 'Raiders', 'Steelers', 'Browns', 'Bears', 'Bills', 'Seahawks', 'Rams', 'Titans', 'Falcons', 'Eagles', 'Cardinals', 'Dolphins']\n",
      "This list has 15 elements.\n",
      "First 5 elements:  ['Chiefs', 'Broncos', 'Chargers', 'Raiders', 'Steelers']\n",
      "Last 5 elements:  ['Titans', 'Falcons', 'Eagles', 'Cardinals', 'Dolphins']\n",
      "The list reversed:  ['Dolphins', 'Cardinals', 'Eagles', 'Falcons', 'Titans', 'Rams', 'Seahawks', 'Bills', 'Bears', 'Browns', 'Steelers', 'Raiders', 'Chargers', 'Broncos', 'Chiefs']\n",
      "Every second element:  ['Broncos', 'Raiders', 'Browns', 'Bills', 'Rams', 'Falcons', 'Cardinals']\n",
      "Every third element:  ['Chargers', 'Browns', 'Seahawks', 'Falcons', 'Dolphins']\n"
     ]
    }
   ],
   "source": [
    "nfl = ['Chiefs', 'Broncos', 'Chargers','Raiders', 'Steelers', 'Browns', 'Bears','Bills','Seahawks','Rams','Titans','Falcons','Eagles','Cardinals','Dolphins']\n",
    "print(nfl)\n",
    "print(\"This list has\",len(nfl),\"elements.\")\n",
    "\n",
    "#First 5 elements\n",
    "print(\"First 5 elements: \",nfl[:5])\n",
    "#Last 5 elements\n",
    "print(\"Last 5 elements: \",nfl[-5:])\n",
    "#Reversed List\n",
    "print(\"The list reversed: \", nfl[::-1])\n",
    "#Every second element\n",
    "print(\"Every second element: \",nfl[1::2])\n",
    "#Every third element\n",
    "print(\"Every third element: \",nfl[2::3])\n"
   ]
  },
  {
   "cell_type": "markdown",
   "metadata": {},
   "source": [
    "7. Build a dictionary that contains the following information about this class (with appropriate names as keys):\n",
    "* The name\n",
    "* The course number\n",
    "* The semester/term in which you are taking this course\n",
    "* The number of credit hours this course counts for\n",
    "* A list of the course learning objectives\n",
    "\n",
    "The majority of this information can be found in the syllabus. Print the dictionary."
   ]
  },
  {
   "cell_type": "code",
   "execution_count": 50,
   "metadata": {},
   "outputs": [
    {
     "name": "stdout",
     "output_type": "stream",
     "text": [
      "{'course name': 'Web Mining and Applied Natural Language Processing', 'course number': 44620, 'semester/term': 'Fall 2022/Block 2', 'credit hours': 3, 'learning objectives': ['L01. Manage Python libraries and packages', 'L02. Interact with Hosted Version Control Systems (e.g. Git and GitHub)', 'L03. Programmatically obtain and transform data from web-based APIs and HTML pages into a usable form.', 'L04. Describe the steps in a basic Natural Language Processing (NLP) Pipeline', 'L05. Use preexisting tools and software libraries to perform some NLP, such as sentiment analysis.', 'L06. Explain results and conclusions drawn from the visualized information.']}\n"
     ]
    }
   ],
   "source": [
    "course_dict = {\n",
    "    'course name': 'Web Mining and Applied Natural Language Processing','course number': 44620, \n",
    "    'semester/term': 'Fall 2022/Block 2','credit hours': 3, \n",
    "    'learning objectives': [\n",
    "        'L01. Manage Python libraries and packages', \n",
    "        'L02. Interact with Hosted Version Control Systems (e.g. Git and GitHub)',\n",
    "        'L03. Programmatically obtain and transform data from web-based APIs and HTML pages into a usable form.',\n",
    "        'L04. Describe the steps in a basic Natural Language Processing (NLP) Pipeline', \n",
    "        'L05. Use preexisting tools and software libraries to perform some NLP, such as sentiment analysis.',\n",
    "        'L06. Explain results and conclusions drawn from the visualized information.'\n",
    "    ]\n",
    "}\n",
    "\n",
    "print(course_dict)\n",
    "#print(course_dict['learning objectives'])"
   ]
  },
  {
   "cell_type": "markdown",
   "metadata": {},
   "source": [
    "8.  Given the dictionary defined in the code cell below, print the list of level 3 spells the character has."
   ]
  },
  {
   "cell_type": "code",
   "execution_count": 53,
   "metadata": {},
   "outputs": [
    {
     "name": "stdout",
     "output_type": "stream",
     "text": [
      "['Mass Healing Word', 'Nondetection', 'Revivify', 'Feign Death', 'Speak with Dead']\n"
     ]
    }
   ],
   "source": [
    "player_character = {'name': 'Kitab',\n",
    "                   'class': [('Cleric: Knowledge', 7)],\n",
    "                   'spells': {'cantrip': ['Guidance', 'Light', 'Thaumaturgy', 'Toll the Dead', 'Word of Radiance'],\n",
    "                             'level 1': ['Command', 'Detect Magic', 'Healing Word', 'Identify', 'Sleep'],\n",
    "                             'level 2': ['Augury', 'Calm Emotions', 'Command', 'Invisibility', 'Lesser Restoration'],\n",
    "                             'level 3': ['Mass Healing Word', 'Nondetection', 'Revivify', 'Feign Death', 'Speak with Dead'],\n",
    "                             'level 4': ['Banishment', 'Confusion']}\n",
    "                   }\n",
    "\n",
    "print(player_character['spells']['level 3'])"
   ]
  },
  {
   "cell_type": "markdown",
   "metadata": {},
   "source": [
    "9. Write code to determine the number of unique elements in the list below.  You MUST use a set in finding your solution.  Print the number of unique values in the list with an appropriate label."
   ]
  },
  {
   "cell_type": "code",
   "execution_count": 56,
   "metadata": {},
   "outputs": [
    {
     "name": "stdout",
     "output_type": "stream",
     "text": [
      "The unique values are: {0, 1, 5, 6, 7, 8, 9, 10, 11, 12, 13, 15}\n",
      "The number of unique values is: 12\n"
     ]
    }
   ],
   "source": [
    "values = [10, 11, 10, 8, 1, 12, 0, 1, 6, 5, 5, 13, 6, 15, 0, 0, 1, 1, 9, 7]\n",
    "\n",
    "union = set(values) | set(values)\n",
    "print(\"The unique values are:\",union)\n",
    "print(\"The number of unique values is:\",len(union))\n",
    "\n"
   ]
  },
  {
   "cell_type": "markdown",
   "metadata": {},
   "source": [
    "10. Create a new Jupyter Notebook (the name of the notebook should be your S number). Add a Markdown cell that contains your name. Add a Code cell and write Python that uses loops to draw the following pattern:\n",
    "\n",
    "```\n",
    "*      *\n",
    "**    **\n",
    "***  ***\n",
    "********\n",
    "```\n",
    "Make sure to add and submit both the new notebook and the changes to this notebook for this assignment."
   ]
  }
 ],
 "metadata": {
  "kernelspec": {
   "display_name": "Python 3 (ipykernel)",
   "language": "python",
   "name": "python3"
  },
  "language_info": {
   "codemirror_mode": {
    "name": "ipython",
    "version": 3
   },
   "file_extension": ".py",
   "mimetype": "text/x-python",
   "name": "python",
   "nbconvert_exporter": "python",
   "pygments_lexer": "ipython3",
   "version": "3.9.7"
  }
 },
 "nbformat": 4,
 "nbformat_minor": 4
}
