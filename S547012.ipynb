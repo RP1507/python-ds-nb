{
 "cells": [
  {
   "cell_type": "markdown",
   "id": "5f40e141-c332-4c7a-a84a-cc7e0c2a05c6",
   "metadata": {},
   "source": [
    "# Ryan Smith - Module 2 Problem 10"
   ]
  },
  {
   "cell_type": "markdown",
   "id": "8b6a6c2f-1a3e-4452-9c4b-dbad588d01c0",
   "metadata": {},
   "source": [
    "Create a new Jupyter Notebook (the name of the notebook should be your S number). Add a Markdown cell that contains your name. Add a Code cell and write Python that uses loops to draw the following pattern:\n",
    "\n",
    "```\n",
    "*      *\n",
    "**    **\n",
    "***  ***\n",
    "********\n",
    "```"
   ]
  },
  {
   "cell_type": "code",
   "execution_count": 28,
   "id": "30dc2e78-bd6a-414c-9d0e-171fc0587a04",
   "metadata": {},
   "outputs": [
    {
     "name": "stdout",
     "output_type": "stream",
     "text": [
      "*      *\n",
      "**    **\n",
      "***  ***\n",
      "********\n"
     ]
    }
   ],
   "source": [
    "row = 8\n",
    "\n",
    "n = row//2\n",
    "\n",
    "for i in range(1,n+1):\n",
    "    for j in range(1, 2*n+1):\n",
    "        if j>i and j< 2*n+1-i:\n",
    "            print(\" \", end=\"\")\n",
    "        else:\n",
    "            print(\"*\", end=\"\")\n",
    "    print()"
   ]
  }
 ],
 "metadata": {
  "kernelspec": {
   "display_name": "Python 3 (ipykernel)",
   "language": "python",
   "name": "python3"
  },
  "language_info": {
   "codemirror_mode": {
    "name": "ipython",
    "version": 3
   },
   "file_extension": ".py",
   "mimetype": "text/x-python",
   "name": "python",
   "nbconvert_exporter": "python",
   "pygments_lexer": "ipython3",
   "version": "3.9.7"
  }
 },
 "nbformat": 4,
 "nbformat_minor": 5
}
